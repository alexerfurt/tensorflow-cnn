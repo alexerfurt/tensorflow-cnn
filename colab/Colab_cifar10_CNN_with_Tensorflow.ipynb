{
  "nbformat": 4,
  "nbformat_minor": 0,
  "metadata": {
    "colab": {
      "name": "Colab_cifar10_CNN_with_Tensorflow.ipynb",
      "version": "0.3.2",
      "provenance": []
    },
    "kernelspec": {
      "display_name": "Python 3",
      "language": "python",
      "name": "python3"
    },
    "accelerator": "TPU"
  },
  "cells": [
    {
      "metadata": {
        "id": "JXalLEBMTtmB",
        "colab_type": "text"
      },
      "cell_type": "markdown",
      "source": [
        "# Building a Convolutional Neural Net with Tensorflow"
      ]
    },
    {
      "metadata": {
        "id": "LENnyXZwTtmC",
        "colab_type": "text"
      },
      "cell_type": "markdown",
      "source": [
        "This tutorial demonstrates how to build a deep Convolutional Neural Network for image classification with Tensorflow using the \n",
        "[CIFAR-10 dataset](http://www.cs.toronto.edu/~kriz/cifar.html)\n",
        "\n",
        "This notebook was created with the help of Udacity's template for their [Deep Learning](https://github.com/udacity/deep-learning/blob/master/image-classification/dlnd_image_classification.ipynb) course as well as 'deep-diver's [implementation of it](https://github.com/deep-diver/CIFAR10-img-classification-tensorflow/blob/master/CIFAR10_image_classification.ipynb)."
      ]
    },
    {
      "metadata": {
        "id": "smopezOyTtmD",
        "colab_type": "text"
      },
      "cell_type": "markdown",
      "source": [
        "## 1. Getting Started"
      ]
    },
    {
      "metadata": {
        "id": "YHvSi_pTTtmE",
        "colab_type": "text"
      },
      "cell_type": "markdown",
      "source": [
        "### Import Libraries"
      ]
    },
    {
      "metadata": {
        "id": "9VxpIHR0TtmF",
        "colab_type": "code",
        "colab": {}
      },
      "cell_type": "code",
      "source": [
        "from __future__ import division\n",
        "from __future__ import print_function\n",
        "\n",
        "import argparse\n",
        "import pickle\n",
        "import numpy as np\n",
        "import math\n",
        "import random\n",
        "from time import time\n",
        "import matplotlib.pyplot as plt\n",
        "from sklearn.preprocessing import LabelBinarizer\n",
        "\n",
        "import tensorflow as tf\n",
        "from tensorflow.contrib.learn.python.learn.utils import (saved_model_export_utils)\n",
        "from tensorflow.python.keras.datasets import cifar10\n",
        "\n",
        "tf.logging.set_verbosity(tf.logging.INFO)"
      ],
      "execution_count": 0,
      "outputs": []
    },
    {
      "metadata": {
        "id": "2ipmY3mlTtmI",
        "colab_type": "text"
      },
      "cell_type": "markdown",
      "source": [
        "### Get the data"
      ]
    },
    {
      "metadata": {
        "id": "k9RdqQWSTtmJ",
        "colab_type": "code",
        "colab": {
          "base_uri": "https://localhost:8080/",
          "height": 51
        },
        "outputId": "0dd84aa2-71da-4605-99be-f834d722fa1f"
      },
      "cell_type": "code",
      "source": [
        "\"\"\"Loads CIFAR10 dataset.\n",
        "  Returns:\n",
        "      Tuple of Numpy arrays: `(x_train, y_train), (x_test, y_test)`.\n",
        "      Source: https://github.com/tensorflow/tensorflow/blob/r1.10/tensorflow/python/keras/datasets/cifar10.py\n",
        "  \"\"\"\n",
        "\n",
        "(x_train, y_train), (x_test, y_test) = cifar10.load_data()"
      ],
      "execution_count": 2,
      "outputs": [
        {
          "output_type": "stream",
          "text": [
            "Downloading data from https://www.cs.toronto.edu/~kriz/cifar-10-python.tar.gz\n",
            "170500096/170498071 [==============================] - 38s 0us/step\n"
          ],
          "name": "stdout"
        }
      ]
    },
    {
      "metadata": {
        "id": "ADCiegxMTtmO",
        "colab_type": "text"
      },
      "cell_type": "markdown",
      "source": [
        "### Explore and plot the data"
      ]
    },
    {
      "metadata": {
        "id": "-TbVYw9LTtmP",
        "colab_type": "code",
        "colab": {}
      },
      "cell_type": "code",
      "source": [
        "class_names = ['airplane', 'automobile', 'bird', 'cat', 'deer', 'dog', 'frog', 'horse', 'ship', 'truck']\n",
        "num_classes = 10"
      ],
      "execution_count": 0,
      "outputs": []
    },
    {
      "metadata": {
        "id": "QrTs5uJxTtmS",
        "colab_type": "code",
        "colab": {
          "base_uri": "https://localhost:8080/",
          "height": 209
        },
        "outputId": "e0c9477b-6104-4233-d5f5-805b4de3c8ba"
      },
      "cell_type": "code",
      "source": [
        "# Print figure with 10 random images from each\n",
        "fig = plt.figure(figsize=(8,3))\n",
        "for i in range(num_classes):\n",
        "    ax = fig.add_subplot(2, 5, 1 + i, xticks=[], yticks=[])\n",
        "    idx = np.where(y_train[:]==i)[0]\n",
        "    features_idx = x_train[idx,::]\n",
        "    img_num = np.random.randint(features_idx.shape[0])\n",
        "    im = np.transpose(features_idx[img_num,::],(0,1,2))\n",
        "    ax.set_title(class_names[i])\n",
        "    plt.imshow(im)\n",
        "plt.show()"
      ],
      "execution_count": 4,
      "outputs": [
        {
          "output_type": "display_data",
          "data": {
            "image/png": "[encoded data removed]",
            "text/plain": [
              "<matplotlib.figure.Figure at 0x7f04fbc02d30>"
            ]
          },
          "metadata": {
            "tags": []
          }
        }
      ]
    },
    {
      "metadata": {
        "id": "v-W6TSd7TtmX",
        "colab_type": "text"
      },
      "cell_type": "markdown",
      "source": [
        "# 2. Create Model with TF Estimators"
      ]
    },
    {
      "metadata": {
        "id": "tIjpxPSvTtmX",
        "colab_type": "text"
      },
      "cell_type": "markdown",
      "source": [
        "### Tensorflow APIs"
      ]
    },
    {
      "metadata": {
        "id": "fVfrNz0bTtmY",
        "colab_type": "text"
      },
      "cell_type": "markdown",
      "source": [
        "Tensorflow is a hierarchical framework. The further down the hierarchy you go, the more flexibility you have, but that more code you have to write. A best practice is to start at the highest level of abstraction. Datasets and Estimators are two key TensorFlow higher level API's that are used a lot for ML projects:\n",
        "\n",
        "- Datasets: Best practice way of creating input pipelines. \n",
        "- Estimators: A high-level API to create TensorFlow models. Estimators include canned models (out of the box) and custom estimators.\n",
        "\n",
        "Below you see the TensorFlow architecture including the dataset API and Estimators. Combined, they offer an easy way to create TensorFlow models.\n",
        "\n",
        "![title](https://3.bp.blogspot.com/-l2UT45WGdyw/Wbe7au1nfwI/AAAAAAAAD1I/GeQcQUUWezIiaFFRCiMILlX2EYdG49C0wCLcBGAs/s1600/image6.png)\n",
        "\n",
        "For this tutorial we will be operating at the highest level of Tensorflow abstraction, using the Estimator API."
      ]
    },
    {
      "metadata": {
        "id": "dRmNKVyXTtmY",
        "colab_type": "text"
      },
      "cell_type": "markdown",
      "source": [
        "### Preprocess Functions"
      ]
    },
    {
      "metadata": {
        "id": "Xhm6h802TtmZ",
        "colab_type": "code",
        "colab": {}
      },
      "cell_type": "code",
      "source": [
        "# Min-Max Normalization simply makes all x values to range between 0 and 1.\n",
        "# y = (x-min) / (max-min)\n",
        "\n",
        "def normalize(x):\n",
        "    \"\"\"\n",
        "        argument\n",
        "            - x: input image data in numpy array [32, 32, 3]\n",
        "        return\n",
        "            - normalized x \n",
        "    \"\"\"\n",
        "    min_val = np.min(x)\n",
        "    max_val = np.max(x)\n",
        "    x = (x-min_val) / (max_val-min_val)\n",
        "    return x"
      ],
      "execution_count": 0,
      "outputs": []
    },
    {
      "metadata": {
        "id": "I3is9g8jTtmb",
        "colab_type": "code",
        "colab": {}
      },
      "cell_type": "code",
      "source": [
        "def one_hot_encode(x):\n",
        "    \"\"\"\n",
        "        argument\n",
        "            - x: a list of labels\n",
        "        return\n",
        "            - one hot encoding matrix (number of labels, number of class)\n",
        "    \"\"\"\n",
        "    encoded = np.zeros((len(x), 10))\n",
        "    \n",
        "    for idx, val in enumerate(x):\n",
        "        encoded[idx][val] = 1\n",
        "    \n",
        "    return encoded"
      ],
      "execution_count": 0,
      "outputs": []
    },
    {
      "metadata": {
        "id": "KoCzNCtjTtmd",
        "colab_type": "text"
      },
      "cell_type": "markdown",
      "source": [
        "### Preprocess all the data and save it"
      ]
    },
    {
      "metadata": {
        "id": "zOxYYBJuTtme",
        "colab_type": "text"
      },
      "cell_type": "markdown",
      "source": [
        "The code cell below uses the previously implemented functions, normalize and one_hot_encode, to preprocess the given dataset. Running the code cell below will preprocess all the CIFAR-10 data and save it to file. The code below also uses 10% of the training data for validation."
      ]
    },
    {
      "metadata": {
        "id": "JbXK5duSTtmf",
        "colab_type": "code",
        "colab": {}
      },
      "cell_type": "code",
      "source": [
        "def _preprocess_and_save(features, labels, filename):\n",
        "    # - normalize the features\n",
        "    # - one_hot_encode the lables\n",
        "    features = normalize(features)\n",
        "    labels = one_hot_encode(labels)\n",
        "\n",
        "    pickle.dump((features, labels), open(filename, 'wb'))\n",
        "\n",
        "def preprocess_and_save_data(x_train, y_train, x_test, y_test):\n",
        "    x_batch = {}\n",
        "    y_batch = {}\n",
        "    for i in range(5):\n",
        "        x_batch[i] = x_train[10000*i:10000*(i+1),:]\n",
        "        y_batch[i] = y_train[10000*i:10000*(i+1),:]\n",
        "    \n",
        "    #x_batch = tf.split(x_train, num_or_size_splits=5, axis=0)\n",
        "    #y_batch = tf.split(y_train, num_or_size_splits=5, axis=0)\n",
        "    valid_features = []\n",
        "    valid_labels = []\n",
        "    \n",
        "    for i in range(len(x_batch)):\n",
        "        features, labels = x_batch[i], y_batch[i]\n",
        "        # find index to be the point as validation data in the whole dataset of the batch (10%)\n",
        "        index_of_validation = int(len(features)*0.1)\n",
        "        \n",
        "        # preprocess the 90% of the whole dataset of the batch\n",
        "        # - save in a new file named, \"preprocess_batch_\" + batch_number\n",
        "        # - each file for each batch\n",
        "        _preprocess_and_save(\n",
        "            features[:-index_of_validation],\n",
        "            labels[:-index_of_validation],\n",
        "            'preprocess_batch_' + str(i+1) + '.p')\n",
        "\n",
        "        # unlike the training dataset, validation dataset will be added through all batch dataset\n",
        "        # - take 10% of the whold dataset of the batch\n",
        "        # - add them into a list of\n",
        "        #   - valid_features\n",
        "        #   - valid_labels\n",
        "        valid_features.extend(features[-index_of_validation:])\n",
        "        valid_labels.extend(labels[-index_of_validation:])\n",
        "\n",
        "    # preprocess the all stacked validation dataset\n",
        "    _preprocess_and_save(\n",
        "      np.array(valid_features),\n",
        "      np.array(valid_labels),\n",
        "      'preprocess_validation.p')\n",
        "\n",
        "    # Preprocess and Save all testing data\n",
        "    _preprocess_and_save(\n",
        "      np.array(x_test),\n",
        "      np.array(y_test),\n",
        "      'preprocess_testing.p')"
      ],
      "execution_count": 0,
      "outputs": []
    },
    {
      "metadata": {
        "id": "-MnUJVcwTtmg",
        "colab_type": "code",
        "colab": {}
      },
      "cell_type": "code",
      "source": [
        "preprocess_and_save_data(x_train, y_train, x_test, y_test)"
      ],
      "execution_count": 0,
      "outputs": []
    },
    {
      "metadata": {
        "id": "pYbAhSVsTtmj",
        "colab_type": "text"
      },
      "cell_type": "markdown",
      "source": [
        "## Checkpoint"
      ]
    },
    {
      "metadata": {
        "id": "GF-suhrgTtmj",
        "colab_type": "text"
      },
      "cell_type": "markdown",
      "source": [
        "This is your first checkpoint. If you ever decide to come back to this notebook or have to restart the notebook, you can start from here. The preprocessed data has been saved to disk."
      ]
    },
    {
      "metadata": {
        "id": "WX9zoNl2Ttmk",
        "colab_type": "code",
        "colab": {}
      },
      "cell_type": "code",
      "source": [
        "# Load the Preprocessed Validation data\n",
        "valid_features, valid_labels = pickle.load(open('preprocess_validation.p', mode='rb'))"
      ],
      "execution_count": 0,
      "outputs": []
    },
    {
      "metadata": {
        "id": "T1hnNEjyTtmn",
        "colab_type": "text"
      },
      "cell_type": "markdown",
      "source": [
        "## Build the Network"
      ]
    },
    {
      "metadata": {
        "id": "rV79OGpYTtmn",
        "colab_type": "text"
      },
      "cell_type": "markdown",
      "source": [
        "The image below depicts what the model would look like in this notebook.\n",
        "\n",
        "![title](https://raw.githubusercontent.com/deep-diver/CIFAR10-img-classification-tensorflow/master/conv_model.png)"
      ]
    },
    {
      "metadata": {
        "id": "jwrNb05xTtmo",
        "colab_type": "text"
      },
      "cell_type": "markdown",
      "source": [
        "### Prepare Input for the Model\n",
        "The neural network needs to read the image data, one-hot encoded labels, and dropout keep probability.\n",
        "\n",
        "#### Some references to look up\n",
        "- [Tensorflow Data Type](https://www.tensorflow.org/api_docs/python/tf/DType)\n",
        "- [Tensorflow Placeholder](https://www.tensorflow.org/api_docs/python/tf/placeholder)\n",
        "- [Tensorflow Variable](https://www.tensorflow.org/api_docs/python/tf/Variable)"
      ]
    },
    {
      "metadata": {
        "id": "3ASJeGWZTtmq",
        "colab_type": "code",
        "colab": {}
      },
      "cell_type": "code",
      "source": [
        "# Remove previous weights, bias, inputs, etc..\n",
        "tf.reset_default_graph()\n",
        "\n",
        "# Inputs\n",
        "x = tf.placeholder(tf.float32, shape=(None, 32, 32, 3), name='input_x')\n",
        "y = tf.placeholder(tf.int32, shape=(None, 10), name='output_y')\n",
        "keep_prob = tf.placeholder(tf.float32, name='keep_prob')"
      ],
      "execution_count": 0,
      "outputs": []
    },
    {
      "metadata": {
        "id": "2dry_0VHTtms",
        "colab_type": "text"
      },
      "cell_type": "markdown",
      "source": [
        "### Create Convolutional Model\n",
        "\n",
        "The entire model consists of 14 layers in total. In addition to layers below lists what techniques are applied to build the model.\n",
        "\n",
        "1. Convolution with 64 different filters in size of (3x3)\n",
        "2. Max Pooling by 2\n",
        "  - ReLU activation function \n",
        "  - Batch Normalization\n",
        "3. Convolution with 128 different filters in size of (3x3)\n",
        "4. Max Pooling by 2\n",
        "  - ReLU activation function \n",
        "  - Batch Normalization\n",
        "5. Convolution with 256 different filters in size of (3x3)\n",
        "6. Max Pooling by 2\n",
        "  - ReLU activation function \n",
        "  - Batch Normalization\n",
        "7. Convolution with 512 different filters in size of (3x3)\n",
        "8. Max Pooling by 2\n",
        "  - ReLU activation function \n",
        "  - Batch Normalization\n",
        "9. Flattening the 3-D output of the last convolutional operations.\n",
        "10. Fully Connected Layer with 128 units\n",
        "  - Dropout \n",
        "  - Batch Normalization\n",
        "11. Fully Connected Layer with 256 units\n",
        "  - Dropout \n",
        "  - Batch Normalization\n",
        "12. Fully Connected Layer with 512 units\n",
        "  - Dropout \n",
        "  - Batch Normalization\n",
        "13. Fully Connected Layer with 1024 units\n",
        "  - Dropout \n",
        "  - Batch Normalization\n",
        "14. Fully Connected Layer with 10 units (number of image classes)"
      ]
    },
    {
      "metadata": {
        "id": "v--m-GJFTtms",
        "colab_type": "code",
        "colab": {}
      },
      "cell_type": "code",
      "source": [
        "def conv_net(x, keep_prob):\n",
        "    conv1_filter = tf.Variable(tf.truncated_normal(shape=[3, 3, 3, 64], mean=0, stddev=0.08))\n",
        "    conv2_filter = tf.Variable(tf.truncated_normal(shape=[3, 3, 64, 128], mean=0, stddev=0.08))\n",
        "    conv3_filter = tf.Variable(tf.truncated_normal(shape=[5, 5, 128, 256], mean=0, stddev=0.08))\n",
        "    conv4_filter = tf.Variable(tf.truncated_normal(shape=[5, 5, 256, 512], mean=0, stddev=0.08))\n",
        "\n",
        "    # 1, 2\n",
        "    conv1 = tf.nn.conv2d(x, conv1_filter, strides=[1,1,1,1], padding='SAME')\n",
        "    conv1 = tf.nn.relu(conv1)\n",
        "    conv1_pool = tf.nn.max_pool(conv1, ksize=[1,2,2,1], strides=[1,2,2,1], padding='SAME')\n",
        "    conv1_bn = tf.layers.batch_normalization(conv1_pool)\n",
        "\n",
        "    # 3, 4\n",
        "    conv2 = tf.nn.conv2d(conv1_bn, conv2_filter, strides=[1,1,1,1], padding='SAME')\n",
        "    conv2 = tf.nn.relu(conv2)\n",
        "    conv2_pool = tf.nn.max_pool(conv2, ksize=[1,2,2,1], strides=[1,2,2,1], padding='SAME')    \n",
        "    conv2_bn = tf.layers.batch_normalization(conv2_pool)\n",
        "  \n",
        "    # 5, 6\n",
        "    conv3 = tf.nn.conv2d(conv2_bn, conv3_filter, strides=[1,1,1,1], padding='SAME')\n",
        "    conv3 = tf.nn.relu(conv3)\n",
        "    conv3_pool = tf.nn.max_pool(conv3, ksize=[1,2,2,1], strides=[1,2,2,1], padding='SAME')  \n",
        "    conv3_bn = tf.layers.batch_normalization(conv3_pool)\n",
        "    \n",
        "    # 7, 8\n",
        "    conv4 = tf.nn.conv2d(conv3_bn, conv4_filter, strides=[1,1,1,1], padding='SAME')\n",
        "    conv4 = tf.nn.relu(conv4)\n",
        "    conv4_pool = tf.nn.max_pool(conv4, ksize=[1,2,2,1], strides=[1,2,2,1], padding='SAME')\n",
        "    conv4_bn = tf.layers.batch_normalization(conv4_pool)\n",
        "    \n",
        "    # 9\n",
        "    flat = tf.contrib.layers.flatten(conv4_bn)  \n",
        "\n",
        "    # 10\n",
        "    full1 = tf.contrib.layers.fully_connected(inputs=flat, num_outputs=128, activation_fn=tf.nn.relu)\n",
        "    full1 = tf.nn.dropout(full1, keep_prob)\n",
        "    full1 = tf.layers.batch_normalization(full1)\n",
        "    \n",
        "    # 11\n",
        "    full2 = tf.contrib.layers.fully_connected(inputs=full1, num_outputs=256, activation_fn=tf.nn.relu)\n",
        "    full2 = tf.nn.dropout(full2, keep_prob)\n",
        "    full2 = tf.layers.batch_normalization(full2)\n",
        "    \n",
        "    # 12\n",
        "    full3 = tf.contrib.layers.fully_connected(inputs=full2, num_outputs=512, activation_fn=tf.nn.relu)\n",
        "    full3 = tf.nn.dropout(full3, keep_prob)\n",
        "    full3 = tf.layers.batch_normalization(full3)    \n",
        "    \n",
        "    # 13\n",
        "    full4 = tf.contrib.layers.fully_connected(inputs=full3, num_outputs=1024, activation_fn=tf.nn.relu)\n",
        "    full4 = tf.nn.dropout(full4, keep_prob)\n",
        "    full4 = tf.layers.batch_normalization(full4)        \n",
        "    \n",
        "    # 14\n",
        "    output = tf.contrib.layers.fully_connected(inputs=full4, num_outputs=10, activation_fn=None)\n",
        "    return output"
      ],
      "execution_count": 0,
      "outputs": []
    },
    {
      "metadata": {
        "id": "aj86fyzGTtmu",
        "colab_type": "text"
      },
      "cell_type": "markdown",
      "source": [
        "## Build the Neural Network"
      ]
    },
    {
      "metadata": {
        "id": "2RMBtP5uTtmw",
        "colab_type": "text"
      },
      "cell_type": "markdown",
      "source": [
        "### Hyperparameters\n",
        "\n",
        "* `epochs`: number of iterations until the network stops learning or start overfitting\n",
        "* `batch_size`: highest number that your machine has memory for.  Most people set them to common sizes of memory:\n",
        "* `keep_probability`: probability of keeping a node using dropout\n",
        "* `learning_rate`: number how fast the model learns"
      ]
    },
    {
      "metadata": {
        "id": "O3Vv00hwTtmw",
        "colab_type": "code",
        "colab": {}
      },
      "cell_type": "code",
      "source": [
        "epochs = 3\n",
        "batch_size = 64\n",
        "keep_probability = 0.7\n",
        "learning_rate = 0.001"
      ],
      "execution_count": 0,
      "outputs": []
    },
    {
      "metadata": {
        "id": "AoJoKomXTtm1",
        "colab_type": "text"
      },
      "cell_type": "markdown",
      "source": [
        "### Cost Function & Optimizer\n",
        "\n",
        "- [Tensorflow Softmax Cross Entropy with Logits](https://www.tensorflow.org/api_docs/python/tf/nn/softmax_cross_entropy_with_logits_v2)\n",
        "- [Tensorflow Reduce Mean](https://www.tensorflow.org/api_docs/python/tf/reduce_mean)\n",
        "- [Tensorflow Optimizers](https://www.tensorflow.org/api_guides/python/train)\n",
        "- [Tensorflow Equal](https://www.tensorflow.org/api_docs/python/tf/equal)\n",
        "- [Tensorflow Cast](https://www.tensorflow.org/api_docs/python/tf/cast)\n",
        "- [An overview of gradient descent optimization algorithms](http://ruder.io/optimizing-gradient-descent/)\n",
        "- [Optimization for Training Deep Models](http://www.deeplearningbook.org/contents/optimization.html)"
      ]
    },
    {
      "metadata": {
        "id": "Ep9qWrpsTtm2",
        "colab_type": "code",
        "colab": {
          "base_uri": "https://localhost:8080/",
          "height": 173
        },
        "outputId": "d3abe274-cef0-421d-f48a-8d697f21b704"
      },
      "cell_type": "code",
      "source": [
        "logits = conv_net(x, keep_prob)\n",
        "model = tf.identity(logits, name='logits') # Name logits Tensor, so that can be loaded from disk after training\n",
        "\n",
        "# Loss and Optimizer\n",
        "cost = tf.reduce_mean(tf.nn.softmax_cross_entropy_with_logits(logits=logits, labels=y))\n",
        "optimizer = tf.train.AdamOptimizer(learning_rate=learning_rate).minimize(cost)\n",
        "\n",
        "# Accuracy\n",
        "correct_pred = tf.equal(tf.argmax(logits, 1), tf.argmax(y, 1))\n",
        "accuracy = tf.reduce_mean(tf.cast(correct_pred, tf.float32), name='accuracy')"
      ],
      "execution_count": 13,
      "outputs": [
        {
          "output_type": "stream",
          "text": [
            "WARNING:tensorflow:From <ipython-input-13-bc29ffa8bb57>:5: softmax_cross_entropy_with_logits (from tensorflow.python.ops.nn_ops) is deprecated and will be removed in a future version.\n",
            "Instructions for updating:\n",
            "\n",
            "Future major versions of TensorFlow will allow gradients to flow\n",
            "into the labels input on backprop by default.\n",
            "\n",
            "See @{tf.nn.softmax_cross_entropy_with_logits_v2}.\n",
            "\n"
          ],
          "name": "stdout"
        }
      ]
    },
    {
      "metadata": {
        "id": "8VGkgyTyTtm9",
        "colab_type": "text"
      },
      "cell_type": "markdown",
      "source": [
        "## Train the Neural Network\n",
        "\n",
        "We have defined cost, optimizer and accuracy, and what they really are is..\n",
        "- **cost**:  \n",
        "   - tf.reduce_mean returns => The reduced **Tensor**\n",
        "- **optimizer**:  \n",
        "   - tf.train.AdamOptimizer returns => An **Operation** that applies the specified gradients.\n",
        "- **accuracy**: \n",
        "   - tf.reduce_mean returns => The reduced **Tensor**\n",
        "\n",
        "tf.Session.run method in the official document explains it runs one \"step\" of TensorFlow computation, by running the necessary graph fragment to execute every Operation and evaluate every Tensor in fetches, substituting the values in feed_dict for the corresponding input values. The fetches argument may be a single graph element, or an arbitrarily nested list, tuple, etc.\n",
        "\n",
        "Here what graph element really is tf.Tensor or tf.Operation. Cost, Optimizer, and Accuracy are one of those types meaning they can be specified as part of the fetches argument. Then, we can feed some variables along the way. This is kind of handy feature of Tensorflow. Once we have constructed the graph, all we need to do is feeding data into that graph and specifying what results to retrieve.\n",
        "\n",
        "\n",
        "\n",
        "#### some references to look up\n",
        "- [Tensorflow Session run function](https://www.tensorflow.org/api_docs/python/tf/Session#run)\n",
        "- [Tensorflow tf.reduce_mean](https://www.tensorflow.org/api_docs/python/tf/reduce_mean)\n",
        "- [Tensorflow tf.train.AdamOptimizer](https://www.tensorflow.org/api_docs/python/tf/train/AdamOptimizer)\n"
      ]
    },
    {
      "metadata": {
        "id": "hMuvSPQ3Ttm9",
        "colab_type": "text"
      },
      "cell_type": "markdown",
      "source": [
        "### Single Optimization\n",
        "\n",
        "Implement the function train_neural_network to do a single optimization. The optimization should use optimizer to optimize in session with a feed_dict of the following:\n",
        "\n",
        "- x for image input\n",
        "- y for labels\n",
        "- keep_prob for keep probability for dropout\n",
        "\n",
        "This function will be called for each batch, so tf.global_variables_initializer() has already been called.\n",
        "\n",
        "Note: Nothing needs to be returned. This function is only optimizing the neural network."
      ]
    },
    {
      "metadata": {
        "id": "N3aGtzR1Ttm9",
        "colab_type": "code",
        "colab": {}
      },
      "cell_type": "code",
      "source": [
        "def train_neural_network(session, optimizer, keep_probability, feature_batch, label_batch):\n",
        "    session.run(optimizer, \n",
        "                feed_dict={\n",
        "                    x: feature_batch,\n",
        "                    y: label_batch,\n",
        "                    keep_prob: keep_probability\n",
        "                })"
      ],
      "execution_count": 0,
      "outputs": []
    },
    {
      "metadata": {
        "id": "dY-LGCEDTtm_",
        "colab_type": "text"
      },
      "cell_type": "markdown",
      "source": [
        "### Show Stats\n",
        "\n",
        "Implement the function print_stats to print loss and validation accuracy. Use the global variables valid_features and valid_labels to calculate validation accuracy. Use a keep probability of 1.0 to calculate the loss and validation accuracy."
      ]
    },
    {
      "metadata": {
        "id": "Yp44-HlcTtnA",
        "colab_type": "code",
        "colab": {}
      },
      "cell_type": "code",
      "source": [
        "def print_stats(session, feature_batch, label_batch, valid_features, valid_labels, cost, accuracy):\n",
        "    loss = sess.run(cost, \n",
        "                    feed_dict={\n",
        "                        x: feature_batch,\n",
        "                        y: label_batch,\n",
        "                        keep_prob: 1.\n",
        "                    })\n",
        "    valid_acc = sess.run(accuracy, \n",
        "                         feed_dict={\n",
        "                             x: valid_features,\n",
        "                             y: valid_labels,\n",
        "                             keep_prob: 1.\n",
        "                         })\n",
        "    \n",
        "    print('Loss: {:>10.4f} Validation Accuracy: {:.6f}'.format(loss, valid_acc))"
      ],
      "execution_count": 0,
      "outputs": []
    },
    {
      "metadata": {
        "id": "EGP69LP5TtnC",
        "colab_type": "text"
      },
      "cell_type": "markdown",
      "source": [
        "### Helper Functions for Training"
      ]
    },
    {
      "metadata": {
        "id": "qaR1BVfCTtnD",
        "colab_type": "code",
        "colab": {}
      },
      "cell_type": "code",
      "source": [
        "def batch_features_labels(features, labels, batch_size):\n",
        "    \"\"\"\n",
        "    Split features and labels into batches\n",
        "    \"\"\"\n",
        "    for start in range(0, len(features), batch_size):\n",
        "        end = min(start + batch_size, len(features))\n",
        "        yield features[start:end], labels[start:end]\n",
        "\n",
        "def load_preprocess_training_batch(batch_id, batch_size):\n",
        "    \"\"\"\n",
        "    Load the Preprocessed Training data and return them in batches of <batch_size> or less\n",
        "    \"\"\"\n",
        "    filename = 'preprocess_batch_' + str(batch_id) + '.p'\n",
        "    features, labels = pickle.load(open(filename, mode='rb'))\n",
        "\n",
        "    # Return the training data in batches of size <batch_size> or less\n",
        "    return batch_features_labels(features, labels, batch_size)"
      ],
      "execution_count": 0,
      "outputs": []
    },
    {
      "metadata": {
        "id": "PSCjP-U-TtnF",
        "colab_type": "text"
      },
      "cell_type": "markdown",
      "source": [
        "### Train on a Single CIFAR-10 Batch\n",
        "Instead of training the neural network on all the CIFAR-10 batches of data, let's use a single batch. This should save time while you iterate on the model to get a better accuracy. Once the final validation accuracy is 50% or greater, run the model on all the data in the next section."
      ]
    },
    {
      "metadata": {
        "id": "3ZLE2bujTtnF",
        "colab_type": "code",
        "colab": {}
      },
      "cell_type": "code",
      "source": [
        "print('Checking the Training on a Single Batch...')\n",
        "with tf.Session() as sess:\n",
        "  # Measures total program runtime by collecting start time\n",
        "  start_time = time()\n",
        "    \n",
        "  # Initializing the variables\n",
        "  sess.run(tf.global_variables_initializer())\n",
        "\n",
        "  # Training cycle\n",
        "  for epoch in range(epochs):\n",
        "      batch_i = 1\n",
        "      for batch_features, batch_labels in load_preprocess_training_batch(batch_i, batch_size):\n",
        "          train_neural_network(sess, optimizer, keep_probability, batch_features, batch_labels)\n",
        "      print('Epoch {:>2}, CIFAR-10 Batch {}:  '.format(epoch + 1, batch_i), end='')\n",
        "      print_stats(sess, batch_features, batch_labels, valid_features, valid_labels, cost, accuracy)\n",
        "\n",
        "  # Measure total program runtime by collecting end time\n",
        "  end_time = time()\n",
        "\n",
        "  # Computes overall runtime in seconds & prints it in hh:mm:ss format\n",
        "  tot_time = end_time - start_time\n",
        "  print(\"\\n** Total Elapsed Runtime:\",\n",
        "        str(int((tot_time/3600)))+\":\"+str(int((tot_time%3600)/60))+\":\"\n",
        "        +str(int((tot_time%3600)%60)) )"
      ],
      "execution_count": 0,
      "outputs": []
    },
    {
      "metadata": {
        "id": "7vGM7rwdTtnH",
        "colab_type": "text"
      },
      "cell_type": "markdown",
      "source": [
        "### Fully Train the Model\n",
        "Now that you got a good accuracy with a single CIFAR-10 batch, try it with all five batches.\n",
        "\n",
        "NOTE: This includes a checkpoint. The model has been saved to disk afterwards."
      ]
    },
    {
      "metadata": {
        "id": "3LjZT0_9TtnI",
        "colab_type": "code",
        "colab": {}
      },
      "cell_type": "code",
      "source": [
        "save_model_path = './image_classification'\n",
        "\n",
        "print('Training...')\n",
        "with tf.Session() as sess:\n",
        "  # Measures total program runtime by collecting start time\n",
        "  start_time = time()\n",
        "\n",
        "  # Initializing the variables\n",
        "  sess.run(tf.global_variables_initializer())\n",
        "    \n",
        "  # Training cycle\n",
        "  for epoch in range(epochs):\n",
        "      # Loop over all batches\n",
        "      n_batches = 5\n",
        "      for batch_i in range(1, n_batches + 1):\n",
        "          for batch_features, batch_labels in load_preprocess_training_batch(batch_i, batch_size):\n",
        "              train_neural_network(sess, optimizer, keep_probability, batch_features, batch_labels)\n",
        "          print('Epoch {:>2}, CIFAR-10 Batch {}:  '.format(epoch + 1, batch_i), end='')\n",
        "          print_stats(sess, batch_features, batch_labels, valid_features, valid_labels, cost, accuracy)\n",
        "            \n",
        "  # Save Model\n",
        "  saver = tf.train.Saver()\n",
        "  save_path = saver.save(sess, save_model_path)\n",
        "\n",
        "  # Measure total program runtime by collecting end time\n",
        "  end_time = time()\n",
        "\n",
        "  # Computes overall runtime in seconds & prints it in hh:mm:ss format\n",
        "  tot_time = end_time - start_time\n",
        "  print(\"\\n** Total Elapsed Runtime:\",\n",
        "        str(int((tot_time/3600)))+\":\"+str(int((tot_time%3600)/60))+\":\"\n",
        "        +str(int((tot_time%3600)%60)) )"
      ],
      "execution_count": 0,
      "outputs": []
    },
    {
      "metadata": {
        "id": "dOsfTkuPTtnK",
        "colab_type": "text"
      },
      "cell_type": "markdown",
      "source": [
        "### Setting up Tensorboard"
      ]
    },
    {
      "metadata": {
        "id": "gD81Wql9TtnK",
        "colab_type": "code",
        "colab": {}
      },
      "cell_type": "code",
      "source": [
        "!wget https://bin.equinox.io/c/4VmDzA7iaHb/ngrok-stable-linux-amd64.zip\n",
        "!unzip ngrok-stable-linux-amd64.zip"
      ],
      "execution_count": 0,
      "outputs": []
    },
    {
      "metadata": {
        "id": "38MNTvgdntg8",
        "colab_type": "code",
        "colab": {}
      },
      "cell_type": "code",
      "source": [
        "LOG_DIR = './logs'\n",
        "get_ipython().system_raw(\n",
        "    'tensorboard --logdir {} --host 0.0.0.0 --port 6006 &'\n",
        "    .format(LOG_DIR)\n",
        ")"
      ],
      "execution_count": 0,
      "outputs": []
    },
    {
      "metadata": {
        "id": "dqvInEgUntjw",
        "colab_type": "code",
        "colab": {}
      },
      "cell_type": "code",
      "source": [
        "get_ipython().system_raw('./ngrok http 6006 &')"
      ],
      "execution_count": 0,
      "outputs": []
    },
    {
      "metadata": {
        "id": "opClwd-cntm5",
        "colab_type": "code",
        "colab": {}
      },
      "cell_type": "code",
      "source": [
        "! curl -s http://localhost:4040/api/tunnels | python3 -c \\\n",
        "    \"import sys, json; print(json.load(sys.stdin)['tunnels'][0]['public_url'])\""
      ],
      "execution_count": 0,
      "outputs": []
    },
    {
      "metadata": {
        "id": "_pUJLLYiTtnM",
        "colab_type": "text"
      },
      "cell_type": "markdown",
      "source": [
        "## Test your Model"
      ]
    },
    {
      "metadata": {
        "id": "ohhQtEsFTtnN",
        "colab_type": "code",
        "colab": {}
      },
      "cell_type": "code",
      "source": [
        "def batch_features_labels(features, labels, batch_size):\n",
        "    \"\"\"\n",
        "    Split features and labels into batches\n",
        "    \"\"\"\n",
        "    for start in range(0, len(features), batch_size):\n",
        "        end = min(start + batch_size, len(features))\n",
        "        yield features[start:end], labels[start:end]\n",
        "\n",
        "def display_image_predictions(features, labels, predictions):\n",
        "    n_classes = 10\n",
        "    label_names = _load_label_names()\n",
        "    label_binarizer = LabelBinarizer()\n",
        "    label_binarizer.fit(range(n_classes))\n",
        "    label_ids = label_binarizer.inverse_transform(np.array(labels))\n",
        "\n",
        "    fig, axies = plt.subplots(nrows=4, ncols=2)\n",
        "    fig.tight_layout()\n",
        "    fig.suptitle('Softmax Predictions', fontsize=20, y=1.1)\n",
        "\n",
        "    n_predictions = 3\n",
        "    margin = 0.05\n",
        "    ind = np.arange(n_predictions)\n",
        "    width = (1. - 2. * margin) / n_predictions\n",
        "\n",
        "    for image_i, (feature, label_id, pred_indicies, pred_values) in enumerate(zip(features, label_ids, predictions.indices, predictions.values)):\n",
        "        pred_names = [label_names[pred_i] for pred_i in pred_indicies]\n",
        "        correct_name = label_names[label_id]\n",
        "\n",
        "        axies[image_i][0].imshow(feature*255)\n",
        "        axies[image_i][0].set_title(correct_name)\n",
        "        axies[image_i][0].set_axis_off()\n",
        "\n",
        "        axies[image_i][1].barh(ind + margin, pred_values[::-1], width)\n",
        "        axies[image_i][1].set_yticks(ind + margin)\n",
        "        axies[image_i][1].set_yticklabels(pred_names[::-1])\n",
        "        axies[image_i][1].set_xticks([0, 0.5, 1.0])"
      ],
      "execution_count": 0,
      "outputs": []
    },
    {
      "metadata": {
        "id": "N4SIjZK_TtnP",
        "colab_type": "code",
        "colab": {}
      },
      "cell_type": "code",
      "source": [
        "%matplotlib inline\n",
        "%config InlineBackend.figure_format = 'retina'\n",
        "\n",
        "import tensorflow as tf\n",
        "import pickle\n",
        "import random\n",
        "\n",
        "save_model_path = './image_classification'\n",
        "batch_size = 64\n",
        "n_samples = 10\n",
        "top_n_predictions = 5\n",
        "\n",
        "def test_model():\n",
        "    test_features, test_labels = pickle.load(open('preprocess_training.p', mode='rb'))\n",
        "    loaded_graph = tf.Graph()\n",
        "\n",
        "    with tf.Session(graph=loaded_graph) as sess:\n",
        "        # Load model\n",
        "        loader = tf.train.import_meta_graph(save_model_path + '.meta')\n",
        "        loader.restore(sess, save_model_path)\n",
        "\n",
        "        # Get Tensors from loaded model\n",
        "        loaded_x = loaded_graph.get_tensor_by_name('input_x:0')\n",
        "        loaded_y = loaded_graph.get_tensor_by_name('output_y:0')\n",
        "        loaded_keep_prob = loaded_graph.get_tensor_by_name('keep_prob:0')\n",
        "        loaded_logits = loaded_graph.get_tensor_by_name('logits:0')\n",
        "        loaded_acc = loaded_graph.get_tensor_by_name('accuracy:0')\n",
        "        \n",
        "        # Get accuracy in batches for memory limitations\n",
        "        test_batch_acc_total = 0\n",
        "        test_batch_count = 0\n",
        "        \n",
        "        for train_feature_batch, train_label_batch in batch_features_labels(test_features, test_labels, batch_size):\n",
        "            test_batch_acc_total += sess.run(\n",
        "                loaded_acc,\n",
        "                feed_dict={loaded_x: train_feature_batch, loaded_y: train_label_batch, loaded_keep_prob: 1.0})\n",
        "            test_batch_count += 1\n",
        "\n",
        "        print('Testing Accuracy: {}\\n'.format(test_batch_acc_total/test_batch_count))\n",
        "\n",
        "        # Print Random Samples\n",
        "        random_test_features, random_test_labels = tuple(zip(*random.sample(list(zip(test_features, test_labels)), n_samples)))\n",
        "        random_test_predictions = sess.run(\n",
        "            tf.nn.top_k(tf.nn.softmax(loaded_logits), top_n_predictions),\n",
        "            feed_dict={loaded_x: random_test_features, loaded_y: random_test_labels, loaded_keep_prob: 1.0})\n",
        "        display_image_predictions(random_test_features, random_test_labels, random_test_predictions)\n",
        "\n",
        "\n",
        "test_model()"
      ],
      "execution_count": 0,
      "outputs": []
    }
  ]
}